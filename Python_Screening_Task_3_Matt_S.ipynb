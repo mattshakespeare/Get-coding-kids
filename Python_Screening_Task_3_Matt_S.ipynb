{
  "nbformat": 4,
  "nbformat_minor": 0,
  "metadata": {
    "colab": {
      "name": "Python Screening Task 3 - Matt S",
      "provenance": [],
      "include_colab_link": true
    },
    "kernelspec": {
      "name": "python3",
      "display_name": "Python 3"
    }
  },
  "cells": [
    {
      "cell_type": "markdown",
      "metadata": {
        "id": "view-in-github",
        "colab_type": "text"
      },
      "source": [
        "<a href=\"https://colab.research.google.com/github/mattshakespeare/Get-coding-kids/blob/main/Python_Screening_Task_3_Matt_S.ipynb\" target=\"_parent\"><img src=\"https://colab.research.google.com/assets/colab-badge.svg\" alt=\"Open In Colab\"/></a>"
      ]
    },
    {
      "cell_type": "markdown",
      "metadata": {
        "id": "hMMqMGR8OuiH"
      },
      "source": [
        "![texto alternativo](https://ikeafoundation.org/wp-content/uploads/2019/09/Generation-logo.png)\n",
        "\n",
        "**Python Screening Task 3**\n",
        "\n",
        "\n",
        "1. Build a Python function that returns True or False if a a String is a palindrome. (Note:  A a palindrome is a word, number, phrase, or other sequence of characters which reads the same backward as forward.)\n",
        "\n",
        "\n",
        "\n"
      ]
    },
    {
      "cell_type": "code",
      "metadata": {
        "id": "CWwB0hHJOsTY",
        "colab": {
          "base_uri": "https://localhost:8080/"
        },
        "outputId": "20ac2771-5a08-421f-8be4-6c4253b200f1"
      },
      "source": [
        "def is_palindrome(text):\n",
        "  if text == text[::-1]:\n",
        "    return True\n",
        "  else:\n",
        "    return False\n",
        "is_palindrome()\n",
        "assert is_palindrome(\"redivider\") == True\n",
        "assert is_palindrome(\"drive\") == False\n",
        "assert is_palindrome(\"kayak\") == True\n",
        "assert is_palindrome(\"11211\") == True\n",
        "assert is_palindrome(\"1115544\") == False"
      ],
      "execution_count": null,
      "outputs": [
        {
          "output_type": "stream",
          "text": [
            "False\n"
          ],
          "name": "stdout"
        }
      ]
    },
    {
      "cell_type": "markdown",
      "metadata": {
        "id": "7ofRmvj0Q5ZE"
      },
      "source": [
        "2. Implement a Python function that will help you count the occurrences of a word inside a list of sentences."
      ]
    },
    {
      "cell_type": "code",
      "metadata": {
        "id": "M_QGRJFPSTKH",
        "colab": {
          "base_uri": "https://localhost:8080/",
          "height": 316
        },
        "outputId": "5d0c27b0-dd40-473e-ff28-c5d20f1b8e68"
      },
      "source": [
        "def find_occurrences(text, itemsList):\n",
        "  count = 0\n",
        "  for sentence in itemsList:\n",
        "    sentence = sentence.split()\n",
        "    for word in sentence:\n",
        "      if text == word:\n",
        "        count += 1\n",
        "  return count\n",
        "\n",
        "\n",
        "\n",
        "\n",
        "         \n",
        "test = 'Python'\n",
        "lst = [\"welcome to our Python program\", \"Python is my favorite language!\", \"I am afraid of Pythons\", \"I love Python\"]\n",
        "print(find_occurrences(test,lst))\n",
        "\n",
        "\n",
        "    \n",
        "\n",
        "\n",
        "\n",
        "\n",
        "\n",
        "assert find_occurrences([\"welcome to our Python program\", \"Python is my favorite language!\", \"I am afraid of Pythons\", \"I love Python\"], \"Python\") == 4\n",
        "assert find_occurrences([\"this is the best day\", \"Python is the best language for learning programming\", \"I am learning\", \"I love learning\"], \"learning\") == 3\n",
        "assert find_occurrences([\"welcome\", \"language\", \"I am\", \"I love\"], \"Python\") == 0\n",
        "assert find_occurrences([\"What are you doing?\", \"you like programming?\", \"We are students\", \"We are learners\"], \"are\") == 3\n",
        "assert find_occurrences([\"welcome welcome\", \"wikipedia\", \"wonderland\", \"we\"], \"w\") == 5\n",
        "    \n"
      ],
      "execution_count": 78,
      "outputs": [
        {
          "output_type": "stream",
          "text": [
            "3\n"
          ],
          "name": "stdout"
        },
        {
          "output_type": "error",
          "ename": "AssertionError",
          "evalue": "ignored",
          "traceback": [
            "\u001b[0;31m---------------------------------------------------------------------------\u001b[0m",
            "\u001b[0;31mAssertionError\u001b[0m                            Traceback (most recent call last)",
            "\u001b[0;32m<ipython-input-78-1c6aeea5f96e>\u001b[0m in \u001b[0;36m<module>\u001b[0;34m()\u001b[0m\n\u001b[1;32m     23\u001b[0m \u001b[0;34m\u001b[0m\u001b[0m\n\u001b[1;32m     24\u001b[0m \u001b[0;34m\u001b[0m\u001b[0m\n\u001b[0;32m---> 25\u001b[0;31m \u001b[0;32massert\u001b[0m \u001b[0mfind_occurrences\u001b[0m\u001b[0;34m(\u001b[0m\u001b[0;34m[\u001b[0m\u001b[0;34m\"welcome to our Python program\"\u001b[0m\u001b[0;34m,\u001b[0m \u001b[0;34m\"Python is my favorite language!\"\u001b[0m\u001b[0;34m,\u001b[0m \u001b[0;34m\"I am afraid of Pythons\"\u001b[0m\u001b[0;34m,\u001b[0m \u001b[0;34m\"I love Python\"\u001b[0m\u001b[0;34m]\u001b[0m\u001b[0;34m,\u001b[0m \u001b[0;34m\"Python\"\u001b[0m\u001b[0;34m)\u001b[0m \u001b[0;34m==\u001b[0m \u001b[0;36m4\u001b[0m\u001b[0;34m\u001b[0m\u001b[0;34m\u001b[0m\u001b[0m\n\u001b[0m\u001b[1;32m     26\u001b[0m \u001b[0;32massert\u001b[0m \u001b[0mfind_occurrences\u001b[0m\u001b[0;34m(\u001b[0m\u001b[0;34m[\u001b[0m\u001b[0;34m\"this is the best day\"\u001b[0m\u001b[0;34m,\u001b[0m \u001b[0;34m\"Python is the best language for learning programming\"\u001b[0m\u001b[0;34m,\u001b[0m \u001b[0;34m\"I am learning\"\u001b[0m\u001b[0;34m,\u001b[0m \u001b[0;34m\"I love learning\"\u001b[0m\u001b[0;34m]\u001b[0m\u001b[0;34m,\u001b[0m \u001b[0;34m\"learning\"\u001b[0m\u001b[0;34m)\u001b[0m \u001b[0;34m==\u001b[0m \u001b[0;36m3\u001b[0m\u001b[0;34m\u001b[0m\u001b[0;34m\u001b[0m\u001b[0m\n\u001b[1;32m     27\u001b[0m \u001b[0;32massert\u001b[0m \u001b[0mfind_occurrences\u001b[0m\u001b[0;34m(\u001b[0m\u001b[0;34m[\u001b[0m\u001b[0;34m\"welcome\"\u001b[0m\u001b[0;34m,\u001b[0m \u001b[0;34m\"language\"\u001b[0m\u001b[0;34m,\u001b[0m \u001b[0;34m\"I am\"\u001b[0m\u001b[0;34m,\u001b[0m \u001b[0;34m\"I love\"\u001b[0m\u001b[0;34m]\u001b[0m\u001b[0;34m,\u001b[0m \u001b[0;34m\"Python\"\u001b[0m\u001b[0;34m)\u001b[0m \u001b[0;34m==\u001b[0m \u001b[0;36m0\u001b[0m\u001b[0;34m\u001b[0m\u001b[0;34m\u001b[0m\u001b[0m\n",
            "\u001b[0;31mAssertionError\u001b[0m: "
          ]
        }
      ]
    },
    {
      "cell_type": "markdown",
      "metadata": {
        "id": "J8LI99OzUo5_"
      },
      "source": [
        "3. Rewrite the following code to be more concise by replacing the module_2 function with a lambda expression."
      ]
    },
    {
      "cell_type": "code",
      "metadata": {
        "id": "h9rwLzlRVEDu"
      },
      "source": [
        "def is_a_lambda(v):\n",
        "  LAMBDA = lambda:0\n",
        "  return isinstance(v, type(LAMBDA)) and v.__name__ == LAMBDA.__name__\n",
        "\n",
        "\n",
        "module_2 = lambda num: num / 2 \n",
        "\n",
        "assert is_a_lambda(module_2) == True\n",
        "\n",
        "\n"
      ],
      "execution_count": 41,
      "outputs": []
    },
    {
      "cell_type": "markdown",
      "metadata": {
        "id": "hQUoCwaZXO7K"
      },
      "source": [
        "4. Fix the error in the following code."
      ]
    },
    {
      "cell_type": "code",
      "metadata": {
        "id": "z5H8nj2IXeUe",
        "colab": {
          "base_uri": "https://localhost:8080/"
        },
        "outputId": "cf504186-58b4-4f82-f643-041ee794d4b7"
      },
      "source": [
        "task_count = 5\n",
        "\n",
        "def increasse_task_count(count):\n",
        "    return count + 1\n",
        "\n",
        "task_count = increasse_task_count(task_count)\n",
        "\n",
        "print(task_count)\n",
        "\n",
        "assert task_count == 6"
      ],
      "execution_count": 31,
      "outputs": [
        {
          "output_type": "stream",
          "text": [
            "6\n"
          ],
          "name": "stdout"
        }
      ]
    },
    {
      "cell_type": "markdown",
      "metadata": {
        "id": "ohrCHdZdZBAW"
      },
      "source": [
        "5. Modify the following function to catch and handle the ZeroDivisionError"
      ]
    },
    {
      "cell_type": "code",
      "metadata": {
        "id": "C82xAvPaZAhq",
        "colab": {
          "base_uri": "https://localhost:8080/"
        },
        "outputId": "428339ad-5b69-4b58-f611-5ceeef3ab0ed"
      },
      "source": [
        "def divide(divisor, dividend):\n",
        "  try:\n",
        "    return dividend / divisor\n",
        "  except:\n",
        "    return \"Divison by zero not allowed\"\n",
        "\n",
        "\n",
        "print(divide(0,10)) \n",
        "\n",
        "assert divide(0, 10) == \"Divison by zero not allowed\""
      ],
      "execution_count": 46,
      "outputs": [
        {
          "output_type": "stream",
          "text": [
            "Divison by zero not allowed\n"
          ],
          "name": "stdout"
        }
      ]
    },
    {
      "cell_type": "markdown",
      "metadata": {
        "id": "pBF69dkMahl6"
      },
      "source": [
        "6. Solve the error importing the NumPy library"
      ]
    },
    {
      "cell_type": "code",
      "metadata": {
        "id": "tCRYhs3Oao2D"
      },
      "source": [
        "import numpy as np\n",
        "arrange = np.arange(15).reshape(3, 5)\n",
        "\n",
        "\n",
        "assert np.allclose(arrange, [[0,1,2,3,4],[5,6,7,8,9],[10,11,12,13,14]]) ==  True\n",
        "\n"
      ],
      "execution_count": 33,
      "outputs": []
    }
  ]
}